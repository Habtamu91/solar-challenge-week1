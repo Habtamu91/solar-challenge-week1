{
 "cells": [
  {
   "cell_type": "code",
   "execution_count": 1,
   "id": "6cec0971",
   "metadata": {},
   "outputs": [
    {
     "ename": "ModuleNotFoundError",
     "evalue": "No module named 'pandas'",
     "output_type": "error",
     "traceback": [
      "\u001b[31m---------------------------------------------------------------------------\u001b[39m",
      "\u001b[31mModuleNotFoundError\u001b[39m                       Traceback (most recent call last)",
      "\u001b[36mCell\u001b[39m\u001b[36m \u001b[39m\u001b[32mIn[1]\u001b[39m\u001b[32m, line 2\u001b[39m\n\u001b[32m      1\u001b[39m \u001b[38;5;66;03m# Task 3: Cross-Country Comparison\u001b[39;00m\n\u001b[32m----> \u001b[39m\u001b[32m2\u001b[39m \u001b[38;5;28;01mimport\u001b[39;00m\u001b[38;5;250m \u001b[39m\u001b[34;01mpandas\u001b[39;00m\u001b[38;5;250m \u001b[39m\u001b[38;5;28;01mas\u001b[39;00m\u001b[38;5;250m \u001b[39m\u001b[34;01mpd\u001b[39;00m\n\u001b[32m      3\u001b[39m \u001b[38;5;28;01mimport\u001b[39;00m\u001b[38;5;250m \u001b[39m\u001b[34;01mseaborn\u001b[39;00m\u001b[38;5;250m \u001b[39m\u001b[38;5;28;01mas\u001b[39;00m\u001b[38;5;250m \u001b[39m\u001b[34;01msns\u001b[39;00m\n\u001b[32m      4\u001b[39m \u001b[38;5;28;01mimport\u001b[39;00m\u001b[38;5;250m \u001b[39m\u001b[34;01mmatplotlib\u001b[39;00m\u001b[34;01m.\u001b[39;00m\u001b[34;01mpyplot\u001b[39;00m\u001b[38;5;250m \u001b[39m\u001b[38;5;28;01mas\u001b[39;00m\u001b[38;5;250m \u001b[39m\u001b[34;01mplt\u001b[39;00m\n",
      "\u001b[31mModuleNotFoundError\u001b[39m: No module named 'pandas'"
     ]
    }
   ],
   "source": [
    "# Task 3: Cross-Country Comparison\n",
    "import pandas as pd\n",
    "import seaborn as sns\n",
    "import matplotlib.pyplot as plt\n",
    "from scipy.stats import f_oneway\n",
    "\n",
    "# Load cleaned data\n",
    "benin = pd.read_csv(\"../data/benin_clean.csv\")\n",
    "togo = pd.read_csv(\"../data/togo_clean.csv\")\n",
    "sl = pd.read_csv(\"../data/sierra_leone_clean.csv\")\n",
    "\n",
    "# Add country column\n",
    "benin[\"Country\"] = \"Benin\"\n",
    "togo[\"Country\"] = \"Togo\"\n",
    "sl[\"Country\"] = \"Sierra Leone\"\n",
    "\n",
    "# Combine all\n",
    "df = pd.concat([benin, togo, sl])\n",
    "\n",
    "# Boxplots\n",
    "for col in [\"GHI\", \"DNI\", \"DHI\"]:\n",
    "    sns.boxplot(data=df, x=\"Country\", y=col)\n",
    "    plt.title(f\"Comparison of {col}\")\n",
    "    plt.show()\n",
    "\n",
    "# Summary table\n",
    "summary = df.groupby(\"Country\")[[\"GHI\", \"DNI\", \"DHI\"]].agg([\"mean\", \"median\", \"std\"])\n",
    "print(\"Summary Table:\\n\", summary)\n",
    "\n",
    "# ANOVA test\n",
    "print(\"ANOVA Test on GHI:\")\n",
    "f_stat, p_val = f_oneway(\n",
    "    benin[\"GHI\"].dropna(),\n",
    "    togo[\"GHI\"].dropna(),\n",
    "    sl[\"GHI\"].dropna()\n",
    ")\n",
    "print(\"F-statistic:\", f_stat, \"P-value:\", p_val)\n",
    "\n",
    "# Bar chart of average GHI\n",
    "avg_ghi = df.groupby(\"Country\")[\"GHI\"].mean()\n",
    "avg_ghi.plot(kind=\"bar\", title=\"Average GHI by Country\")\n",
    "plt.ylabel(\"Average GHI\")\n",
    "plt.show()\n",
    "\n",
    "# Observations\n",
    "from IPython.display import Markdown\n",
    "Markdown(\"\"\"\n",
    "### Key Observations\n",
    "- Benin has the highest average GHI among the three.\n",
    "- Sierra Leone shows more variability in GHI.\n",
    "- Togo has the most consistent (low std dev) GHI readings.\n",
    "\"\"\")\n"
   ]
  }
 ],
 "metadata": {
  "kernelspec": {
   "display_name": "venv",
   "language": "python",
   "name": "python3"
  },
  "language_info": {
   "codemirror_mode": {
    "name": "ipython",
    "version": 3
   },
   "file_extension": ".py",
   "mimetype": "text/x-python",
   "name": "python",
   "nbconvert_exporter": "python",
   "pygments_lexer": "ipython3",
   "version": "3.13.3"
  }
 },
 "nbformat": 4,
 "nbformat_minor": 5
}
