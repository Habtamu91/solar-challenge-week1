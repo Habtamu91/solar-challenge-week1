{
 "cells": [
  {
   "cell_type": "code",
   "execution_count": 1,
   "id": "eddfb51f",
   "metadata": {},
   "outputs": [
    {
     "ename": "ModuleNotFoundError",
     "evalue": "No module named 'pandas'",
     "output_type": "error",
     "traceback": [
      "\u001b[31m---------------------------------------------------------------------------\u001b[39m",
      "\u001b[31mModuleNotFoundError\u001b[39m                       Traceback (most recent call last)",
      "\u001b[36mCell\u001b[39m\u001b[36m \u001b[39m\u001b[32mIn[1]\u001b[39m\u001b[32m, line 2\u001b[39m\n\u001b[32m      1\u001b[39m \u001b[38;5;66;03m# EDA : Task 2\u001b[39;00m\n\u001b[32m----> \u001b[39m\u001b[32m2\u001b[39m \u001b[38;5;28;01mimport\u001b[39;00m\u001b[38;5;250m \u001b[39m\u001b[34;01mpandas\u001b[39;00m\u001b[38;5;250m \u001b[39m\u001b[38;5;28;01mas\u001b[39;00m\u001b[38;5;250m \u001b[39m\u001b[34;01mpd\u001b[39;00m\n\u001b[32m      3\u001b[39m \u001b[38;5;28;01mimport\u001b[39;00m\u001b[38;5;250m \u001b[39m\u001b[34;01mnumpy\u001b[39;00m\u001b[38;5;250m \u001b[39m\u001b[38;5;28;01mas\u001b[39;00m\u001b[38;5;250m \u001b[39m\u001b[34;01mnp\u001b[39;00m\n\u001b[32m      4\u001b[39m \u001b[38;5;28;01mimport\u001b[39;00m\u001b[38;5;250m \u001b[39m\u001b[34;01mmatplotlib\u001b[39;00m\u001b[34;01m.\u001b[39;00m\u001b[34;01mpyplot\u001b[39;00m\u001b[38;5;250m \u001b[39m\u001b[38;5;28;01mas\u001b[39;00m\u001b[38;5;250m \u001b[39m\u001b[34;01mplt\u001b[39;00m\n",
      "\u001b[31mModuleNotFoundError\u001b[39m: No module named 'pandas'"
     ]
    }
   ],
   "source": [
    "# EDA : Task 2\n",
    "import pandas as pd\n",
    "import numpy as np\n",
    "import matplotlib.pyplot as plt\n",
    "import seaborn as sns\n",
    "from scipy.stats import zscore\n",
    "\n",
    "# ======================\n",
    "# Load datasets\n",
    "# ======================\n",
    "benin = pd.read_csv(\"../data/benin-malanville.csv\")\n",
    "togo = pd.read_csv(\"../data/togo-dapaong_qc.csv\")\n",
    "sl = pd.read_csv(\"../data/sierraleone-bumbuna.csv\")\n",
    "\n",
    "# Rename for easier handling\n",
    "datasets = {\n",
    "    \"Benin\": benin,\n",
    "    \"Togo\": togo,\n",
    "    \"Sierra Leone\": sl\n",
    "}\n",
    "\n",
    "# ======================\n",
    "# Perform EDA per country\n",
    "# ======================\n",
    "for country, df in datasets.items():\n",
    "    print(f\"--- {country} ---\")\n",
    "    \n",
    "    # 1. Shape and info\n",
    "    print(df.shape)\n",
    "    print(df.info())\n",
    "    \n",
    "    # 2. Summary statistics\n",
    "    print(df.describe())\n",
    "    \n",
    "    # 3. Missing values\n",
    "    missing = df.isna().sum()\n",
    "    print(\"Missing values:\\n\", missing[missing > 0])\n",
    "    \n",
    "    # 4. Outlier detection using Z-score\n",
    "    cols = ['GHI', 'DNI', 'DHI', 'ModA', 'ModB', 'WS', 'WSgust']\n",
    "    df[cols] = df[cols].apply(pd.to_numeric, errors='coerce')\n",
    "    z_scores = df[cols].apply(zscore)\n",
    "    outliers = (z_scores.abs() > 3)\n",
    "    print(f\"{country}: Outliers detected (any column):\", outliers.any(axis=1).sum())\n",
    "\n",
    "    # 5. Clean: Drop NA in key columns\n",
    "    df_clean = df.dropna(subset=cols)\n",
    "    df_clean.to_csv(f\"../data/{country.lower().replace(' ', '_')}_clean.csv\", index=False)\n",
    "    \n",
    "    # 6. Plot time series\n",
    "    df_clean[\"Timestamp\"] = pd.to_datetime(df_clean[\"Timestamp\"])\n",
    "    df_clean.set_index(\"Timestamp\")[[\"GHI\", \"DNI\", \"Tamb\"]].plot(figsize=(10, 5), title=f\"{country} - Irradiance and Temperature\")\n",
    "    plt.show()\n",
    "    \n",
    "    # 7. Cleaning impact on ModA/ModB\n",
    "    df_clean.groupby(\"Cleaning\")[[\"ModA\", \"ModB\"]].mean().plot(kind=\"bar\", title=f\"{country} - Cleaning Impact\")\n",
    "    plt.show()\n",
    "    \n",
    "    # 8. Correlation heatmap\n",
    "    sns.heatmap(df_clean[cols + [\"TModA\", \"TModB\"]].corr(), annot=True)\n",
    "    plt.title(f\"{country} - Correlation\")\n",
    "    plt.show()\n"
   ]
  }
 ],
 "metadata": {
  "kernelspec": {
   "display_name": "venv",
   "language": "python",
   "name": "python3"
  },
  "language_info": {
   "codemirror_mode": {
    "name": "ipython",
    "version": 3
   },
   "file_extension": ".py",
   "mimetype": "text/x-python",
   "name": "python",
   "nbconvert_exporter": "python",
   "pygments_lexer": "ipython3",
   "version": "3.13.3"
  }
 },
 "nbformat": 4,
 "nbformat_minor": 5
}
